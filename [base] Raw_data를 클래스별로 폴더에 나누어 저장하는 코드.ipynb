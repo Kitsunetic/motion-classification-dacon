{
 "cells": [
  {
   "cell_type": "markdown",
   "metadata": {},
   "source": [
    "# 라이브러리 임포트"
   ]
  },
  {
   "cell_type": "code",
   "execution_count": 1,
   "metadata": {},
   "outputs": [],
   "source": [
    "import pandas as pd\n",
    "import matplotlib.pyplot as plt\n",
    "import os"
   ]
  },
  {
   "cell_type": "markdown",
   "metadata": {},
   "source": [
    "# 경로 지정\n",
    "\n",
    "img_path : 클래스별 이미지 폴더가 저장 될 상위 디렉토리\n",
    "\n",
    "train_x : train_features\n",
    "\n",
    "train_y : train_labels"
   ]
  },
  {
   "cell_type": "code",
   "execution_count": 2,
   "metadata": {},
   "outputs": [],
   "source": [
    "img_path = './figs' #이미지를 저장할 디렉토리\n",
    "\n",
    "train_x = pd.read_csv('./data/train_features.csv') #train feature load\n",
    "train_y = pd.read_csv('./data/train_labels.csv') #label load"
   ]
  },
  {
   "cell_type": "markdown",
   "metadata": {},
   "source": [
    "# 라벨 딕셔너리 생성\n",
    "\n",
    "label과 label_description의 딕셔너리 생성, 이후에 폴더와 이미지 이름 지정에 활용"
   ]
  },
  {
   "cell_type": "code",
   "execution_count": null,
   "metadata": {},
   "outputs": [],
   "source": [
    "#label은 dictionary로 만들어 놓으면 좋을 것 같음\n",
    "label_dict = dict()\n",
    "for label, label_desc in zip(train_y.label, train_y.label_desc):\n",
    "    label_dict[label] = label_desc\n",
    "label_dict[45] ='Squat (kettlebell , goblet)'"
   ]
  },
  {
   "cell_type": "markdown",
   "metadata": {},
   "source": [
    "# 이미지 생성"
   ]
  },
  {
   "cell_type": "code",
   "execution_count": null,
   "metadata": {},
   "outputs": [],
   "source": [
    "for target_label in range(len(label_dict)):\n",
    "    print(label_dict[target_label])\n",
    "    target_ids = train_y[(train_y.label ==target_label)].id.to_numpy()\n",
    "    temp_label_path = os.path.join(img_path,label_dict[target_label])\n",
    "    os.mkdir(temp_label_path)\n",
    "    for num, id_ in enumerate(target_ids):\n",
    "        temp_features = train_x.loc[train_x.id == id_, 'acc_x': 'gy_z']\n",
    "        plt.figure(figsize = (10,10))\n",
    "        temp_features.plot()\n",
    "        plt.savefig(os.path.join(temp_label_path,label_dict[target_label]+str(num)))\n",
    "        plt.clf()\n",
    "        plt.close('all')"
   ]
  }
 ],
 "metadata": {
  "kernelspec": {
   "display_name": "Python 3",
   "language": "python",
   "name": "python3"
  },
  "language_info": {
   "codemirror_mode": {
    "name": "ipython",
    "version": 3
   },
   "file_extension": ".py",
   "mimetype": "text/x-python",
   "name": "python",
   "nbconvert_exporter": "python",
   "pygments_lexer": "ipython3",
   "version": "3.7.7"
  }
 },
 "nbformat": 4,
 "nbformat_minor": 4
}
