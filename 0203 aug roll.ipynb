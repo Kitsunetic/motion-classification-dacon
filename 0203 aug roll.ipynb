{
 "cells": [
  {
   "cell_type": "markdown",
   "metadata": {},
   "source": [
    "1. 데이터를 class별로 다른 폴더에 저장\n",
    "<br> --> 그래야지 클래스별로 몇개씩인지 등 알기 쉬움\n",
    "2. oversampling한 다음에 1처럼"
   ]
  },
  {
   "cell_type": "markdown",
   "metadata": {},
   "source": [
    "---"
   ]
  },
  {
   "cell_type": "code",
   "execution_count": 2,
   "metadata": {},
   "outputs": [],
   "source": [
    "%load_ext lab_black"
   ]
  },
  {
   "cell_type": "code",
   "execution_count": 3,
   "metadata": {},
   "outputs": [],
   "source": [
    "import pandas as pd\n",
    "from multiprocessing.dummy import Pool\n",
    "\n",
    "import numpy as np\n",
    "from tqdm import tqdm\n",
    "from pathlib import Path\n",
    "from collections import defaultdict\n",
    "import random\n",
    "import matplotlib.pyplot as plt"
   ]
  },
  {
   "cell_type": "code",
   "execution_count": 1,
   "metadata": {},
   "outputs": [],
   "source": [
    "!rm -r \"data/0203\" \"data/0203_oversampling\""
   ]
  },
  {
   "cell_type": "markdown",
   "metadata": {},
   "source": [
    "---"
   ]
  },
  {
   "cell_type": "markdown",
   "metadata": {},
   "source": [
    "# 1. 데이터를 class별로 다른 폴더에 저장"
   ]
  },
  {
   "cell_type": "code",
   "execution_count": 4,
   "metadata": {},
   "outputs": [],
   "source": [
    "data = np.load(\"data/0203.npz\")"
   ]
  },
  {
   "cell_type": "code",
   "execution_count": 5,
   "metadata": {},
   "outputs": [],
   "source": [
    "X_train, Y_train, X_test = data[\"X_train\"], data[\"Y_train\"], data[\"X_test\"]"
   ]
  },
  {
   "cell_type": "code",
   "execution_count": 6,
   "metadata": {},
   "outputs": [],
   "source": [
    "out_dir = Path(\"data/0203\")\n",
    "out_dir.mkdir(parents=True, exist_ok=True)\n",
    "\n",
    "train_dir = out_dir / \"train\"\n",
    "test_dir = out_dir / \"test\"\n",
    "train_dir.mkdir(parents=True, exist_ok=True)\n",
    "test_dir.mkdir(parents=True, exist_ok=True)"
   ]
  },
  {
   "cell_type": "code",
   "execution_count": 7,
   "metadata": {},
   "outputs": [
    {
     "name": "stderr",
     "output_type": "stream",
     "text": [
      "100%|██████████████████████████████████████████████████████████| 3125/3125 [00:10<00:00, 301.30it/s]\n"
     ]
    }
   ],
   "source": [
    "nums_per_label = {}\n",
    "with tqdm(total=len(X_train), ncols=100) as t:\n",
    "    for i, (x, y) in enumerate(zip(X_train, Y_train)):\n",
    "        y_ = int(y)\n",
    "        if y_ not in nums_per_label:\n",
    "            nums_per_label[y_] = 0\n",
    "            (train_dir / f\"{y_:02d}\").mkdir(exist_ok=True)\n",
    "\n",
    "        fpath = train_dir / f\"{y_:02d}\" / f\"{i:05d}.npz\"\n",
    "        np.savez_compressed(fpath, x=x, y=y)\n",
    "\n",
    "        nums_per_label[y_] += 1\n",
    "        t.update()"
   ]
  },
  {
   "cell_type": "code",
   "execution_count": 8,
   "metadata": {},
   "outputs": [
    {
     "name": "stderr",
     "output_type": "stream",
     "text": [
      "100%|████████████████████████████████████████████████████████████| 782/782 [00:02<00:00, 317.05it/s]\n"
     ]
    }
   ],
   "source": [
    "with tqdm(total=len(X_test), ncols=100) as t:\n",
    "    for i, x in enumerate(X_test):\n",
    "        fpath = test_dir / f\"{i:05d}.npz\"\n",
    "        np.savez_compressed(fpath, x=x)\n",
    "        t.update()"
   ]
  },
  {
   "cell_type": "markdown",
   "metadata": {},
   "source": [
    "# 2. oversampling한 다음에 1처럼"
   ]
  },
  {
   "cell_type": "code",
   "execution_count": 9,
   "metadata": {},
   "outputs": [],
   "source": [
    "aug_dir = out_dir / \"train_aug\"\n",
    "aug_dir.mkdir(parents=True, exist_ok=True)"
   ]
  },
  {
   "cell_type": "code",
   "execution_count": 16,
   "metadata": {},
   "outputs": [],
   "source": [
    "for i in range(61):\n",
    "    (aug_dir / f\"{i:02d}\").mkdir(parents=True, exist_ok=True)"
   ]
  },
  {
   "cell_type": "code",
   "execution_count": 17,
   "metadata": {},
   "outputs": [],
   "source": [
    "def random_shift(x):\n",
    "    shift = random.randint(0, 600)\n",
    "    x = np.roll(x, shift, axis=1)\n",
    "    return x"
   ]
  },
  {
   "cell_type": "code",
   "execution_count": 11,
   "metadata": {},
   "outputs": [],
   "source": [
    "# TODO: sin/cow파 등 시작과 끝이 일치하는 파형을 곱해주는 방식"
   ]
  },
  {
   "cell_type": "code",
   "execution_count": 18,
   "metadata": {},
   "outputs": [],
   "source": [
    "n_max = 1518\n",
    "repeat_per_label = {}\n",
    "for label, n in nums_per_label.items():\n",
    "    repeat_per_label[label] = int((n_max - n) / n)"
   ]
  },
  {
   "cell_type": "code",
   "execution_count": 19,
   "metadata": {},
   "outputs": [
    {
     "name": "stderr",
     "output_type": "stream",
     "text": [
      "100%|███████████████████████████████████████████████████████████| 3125/3125 [04:57<00:00, 10.51it/s]\n"
     ]
    }
   ],
   "source": [
    "with tqdm(total=len(X_train), ncols=100) as t:\n",
    "    for i, (x, y) in enumerate(zip(X_train, Y_train)):\n",
    "        y_ = int(y)\n",
    "        for j in range(repeat_per_label[y_]):\n",
    "            fpath = aug_dir / f\"{y_:02d}\" / f\"{i:05d}_{j:04d}.npz\"\n",
    "            x_ = random_shift(x)\n",
    "            np.savez_compressed(fpath, x=x_, y=y)\n",
    "        t.update()"
   ]
  },
  {
   "cell_type": "markdown",
   "metadata": {},
   "source": [
    "```\n",
    "data/0203\n",
    "  - test\n",
    "    - 00000.npz\n",
    "    - ...\n",
    "  - train\n",
    "    - 00\n",
    "    - 01\n",
    "      - 00001.npz\n",
    "    - ...\n",
    "  - train_aug\n",
    "    - 00\n",
    "    - 01\n",
    "      - 00002_0001.npz\n",
    "      - ...\n",
    "    - ...\n",
    "```\n",
    "\n",
    "test와 train 폴더는 원본 데이터  \n",
    "train_aug는 augmentation된 데이터를 모아둠"
   ]
  },
  {
   "cell_type": "markdown",
   "metadata": {},
   "source": [
    "## 각 class별 개수 확인"
   ]
  },
  {
   "cell_type": "code",
   "execution_count": 22,
   "metadata": {},
   "outputs": [],
   "source": [
    "l = [len(list((train_dir / f\"{i:02d}\").glob(\"*.npz\"))) for i in range(61)]"
   ]
  },
  {
   "cell_type": "code",
   "execution_count": 28,
   "metadata": {},
   "outputs": [
    {
     "data": {
      "text/plain": [
       "[<matplotlib.lines.Line2D at 0x7f5583876350>]"
      ]
     },
     "execution_count": 28,
     "metadata": {},
     "output_type": "execute_result"
    },
    {
     "data": {
      "image/png": "[encoded data removed]",
      "text/plain": [
       "<Figure size 432x288 with 1 Axes>"
      ]
     },
     "metadata": {
      "needs_background": "light"
     },
     "output_type": "display_data"
    }
   ],
   "source": [
    "plt.plot(l)"
   ]
  },
  {
   "cell_type": "code",
   "execution_count": null,
   "metadata": {},
   "outputs": [],
   "source": []
  }
 ],
 "metadata": {
  "kernelspec": {
   "display_name": "torch",
   "language": "python",
   "name": "torch"
  },
  "language_info": {
   "codemirror_mode": {
    "name": "ipython",
    "version": 3
   },
   "file_extension": ".py",
   "mimetype": "text/x-python",
   "name": "python",
   "nbconvert_exporter": "python",
   "pygments_lexer": "ipython3",
   "version": "3.7.9"
  }
 },
 "nbformat": 4,
 "nbformat_minor": 4
}
