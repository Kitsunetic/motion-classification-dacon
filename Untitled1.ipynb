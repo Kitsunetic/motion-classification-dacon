{
 "cells": [
  {
   "cell_type": "code",
   "execution_count": 1,
   "metadata": {},
   "outputs": [],
   "source": [
    "import math\n",
    "import random\n",
    "from datetime import datetime\n",
    "from pathlib import Path\n",
    "from typing import List\n",
    "\n",
    "import numpy as np\n",
    "import torch\n",
    "import torch.nn as nn\n",
    "from torch.utils.data.dataset import Subset\n",
    "import torch_optimizer\n",
    "from sklearn.metrics import classification_report, confusion_matrix\n",
    "from sklearn.model_selection import StratifiedKFold\n",
    "from torch.optim.lr_scheduler import ReduceLROnPlateau\n",
    "from torch.utils.data import DataLoader, Dataset, TensorDataset\n",
    "from torch.utils.tensorboard import SummaryWriter\n",
    "import seaborn as sns\n",
    "import matplotlib.pyplot as plt\n",
    "\n",
    "import networks\n",
    "from utils import AccuracyMeter, AverageMeter, convert_markdown, generate_experiment_directory"
   ]
  },
  {
   "cell_type": "code",
   "execution_count": 2,
   "metadata": {},
   "outputs": [],
   "source": [
    "LOGDIR = Path(\"log\")\n",
    "RESULT_DIR = Path(\"results\")\n",
    "DATA_PATH = Path(\"data/0203\")\n",
    "COMMENT = \"resnet152-os2\""
   ]
  },
  {
   "cell_type": "code",
   "execution_count": 4,
   "metadata": {},
   "outputs": [],
   "source": [
    "legacy_files, legacy_labels = [], []\n",
    "for i in range(61):\n",
    "    for f in (DATA_PATH / \"train\" / f\"{i:02d}\").glob(\"*.npz\"):\n",
    "        legacy_files.append(f)\n",
    "        legacy_labels.append(i)\n",
    "test_files = list((DATA_PATH / \"test\").glob(\"*.npz\"))"
   ]
  },
  {
   "cell_type": "code",
   "execution_count": 6,
   "metadata": {},
   "outputs": [],
   "source": [
    "skf = StratifiedKFold(shuffle=True, random_state=143151)\n",
    "for fold, (train_idx, valid_idx) in enumerate(skf.split(legacy_files, legacy_labels), 1):\n",
    "    break"
   ]
  },
  {
   "cell_type": "code",
   "execution_count": 7,
   "metadata": {},
   "outputs": [],
   "source": [
    "train_files = []\n",
    "for i in train_idx:\n",
    "    train_files.append(legacy_files[i])\n",
    "\n",
    "    file_id = legacy_files[i].name[:-4]\n",
    "    aug_dir = DATA_PATH / \"train_aug\" / f\"{legacy_labels[i]:02d}\"\n",
    "    train_files.extend(aug_dir.glob(f\"{file_id}_*.npz\"))\n",
    "valid_files = [legacy_files[i] for i in valid_idx]"
   ]
  },
  {
   "cell_type": "code",
   "execution_count": 9,
   "metadata": {},
   "outputs": [],
   "source": [
    "from collections import defaultdict"
   ]
  },
  {
   "cell_type": "code",
   "execution_count": 15,
   "metadata": {},
   "outputs": [],
   "source": [
    "cnt = defaultdict(int)\n",
    "for f in train_files:\n",
    "    cnt[int(f.parent.name)] += 1"
   ]
  },
  {
   "cell_type": "code",
   "execution_count": 16,
   "metadata": {},
   "outputs": [
    {
     "data": {
      "text/plain": [
       "defaultdict(int,\n",
       "            {0: 1134,\n",
       "             1: 1224,\n",
       "             2: 1200,\n",
       "             3: 1188,\n",
       "             4: 1204,\n",
       "             5: 1200,\n",
       "             6: 1260,\n",
       "             7: 1160,\n",
       "             8: 1170,\n",
       "             9: 1230,\n",
       "             10: 1200,\n",
       "             11: 1188,\n",
       "             12: 1260,\n",
       "             13: 1134,\n",
       "             14: 1200,\n",
       "             15: 1200,\n",
       "             16: 1242,\n",
       "             17: 1176,\n",
       "             18: 1216,\n",
       "             19: 1200,\n",
       "             20: 1218,\n",
       "             21: 1176,\n",
       "             22: 1264,\n",
       "             23: 1200,\n",
       "             24: 1204,\n",
       "             25: 1197,\n",
       "             26: 1214,\n",
       "             27: 1188,\n",
       "             28: 1188,\n",
       "             29: 1200,\n",
       "             30: 1204,\n",
       "             31: 1200,\n",
       "             32: 1260,\n",
       "             33: 1200,\n",
       "             34: 1173,\n",
       "             35: 1200,\n",
       "             36: 1242,\n",
       "             37: 1204,\n",
       "             38: 1200,\n",
       "             39: 1200,\n",
       "             40: 1188,\n",
       "             41: 1200,\n",
       "             42: 1200,\n",
       "             43: 1204,\n",
       "             44: 1224,\n",
       "             45: 1173,\n",
       "             46: 1200,\n",
       "             47: 1218,\n",
       "             48: 1200,\n",
       "             49: 1200,\n",
       "             50: 1230,\n",
       "             51: 1197,\n",
       "             52: 1260,\n",
       "             53: 1160,\n",
       "             54: 1188,\n",
       "             55: 1230,\n",
       "             56: 1218,\n",
       "             57: 1200,\n",
       "             58: 1200,\n",
       "             59: 1188,\n",
       "             60: 1209})"
      ]
     },
     "execution_count": 16,
     "metadata": {},
     "output_type": "execute_result"
    }
   ],
   "source": [
    "cnt"
   ]
  },
  {
   "cell_type": "code",
   "execution_count": 17,
   "metadata": {},
   "outputs": [
    {
     "data": {
      "text/plain": [
       "3010"
      ]
     },
     "execution_count": 17,
     "metadata": {},
     "output_type": "execute_result"
    }
   ],
   "source": [
    "35*86"
   ]
  }
 ],
 "metadata": {
  "kernelspec": {
   "display_name": "torch",
   "language": "python",
   "name": "torch"
  },
  "language_info": {
   "codemirror_mode": {
    "name": "ipython",
    "version": 3
   },
   "file_extension": ".py",
   "mimetype": "text/x-python",
   "name": "python",
   "nbconvert_exporter": "python",
   "pygments_lexer": "ipython3",
   "version": "3.7.9"
  }
 },
 "nbformat": 4,
 "nbformat_minor": 4
}
