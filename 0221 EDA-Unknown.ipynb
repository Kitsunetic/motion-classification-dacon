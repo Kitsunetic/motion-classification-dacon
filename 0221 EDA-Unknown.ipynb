{
 "cells": [
  {
   "cell_type": "code",
   "execution_count": 1,
   "metadata": {},
   "outputs": [],
   "source": [
    "%load_ext lab_black"
   ]
  },
  {
   "cell_type": "code",
   "execution_count": 2,
   "metadata": {},
   "outputs": [],
   "source": [
    "import numpy as np\n",
    "import pandas as pd\n",
    "import torch\n",
    "import torch.nn as nn\n",
    "import matplotlib.pyplot as plt"
   ]
  },
  {
   "cell_type": "code",
   "execution_count": 3,
   "metadata": {},
   "outputs": [],
   "source": [
    "labels = {}\n",
    "for i, row in pd.read_csv(\"data/train_labels.csv\").iterrows():\n",
    "    if row.label not in labels:\n",
    "        labels[row.label] = row.label_desc\n",
    "        # print(f\"{row.label:02d}\", row.label_desc)"
   ]
  },
  {
   "cell_type": "code",
   "execution_count": 4,
   "metadata": {},
   "outputs": [
    {
     "name": "stdout",
     "output_type": "stream",
     "text": [
      "00 Arm Band Adjustment\n",
      "01 Band Pull-Down Row\n",
      "02 Bicep Curl\n",
      "03 Biceps Curl (band)\n",
      "04 Burpee\n",
      "05 Butterfly Sit-up\n",
      "06 Chest Press (rack)\n",
      "07 Crunch\n",
      "08 Device on Table\n",
      "09 Dip\n",
      "10 Dumbbell Deadlift Row\n",
      "11 Dumbbell Row (knee on bench) (label spans both arms)\n",
      "12 Dumbbell Row (knee on bench) (left arm)\n",
      "13 Dumbbell Row (knee on bench) (right arm)\n",
      "14 Dumbbell Squat (hands at side)\n",
      "15 Dynamic Stretch (at your own pace)\n",
      "16 Elliptical machine\n",
      "17 Fast Alternating Punches\n",
      "18 Jump Rope\n",
      "19 Jumping Jacks\n",
      "20 Kettlebell Swing\n",
      "21 Lateral Raise\n",
      "22 Lawnmower (left arm)\n",
      "23 Lawnmower (right arm)\n",
      "24 Lunge (alternating both legs, weight optional)\n",
      "25 Medicine Ball Slam\n",
      "26 Non-Exercise\n",
      "27 Overhead Triceps Extension\n",
      "28 Plank\n",
      "29 Power Boat pose\n",
      "30 Pushup (knee or foot variation)\n",
      "31 Pushups\n",
      "32 Repetitive Stretching\n",
      "33 Rowing machine\n",
      "34 Running (treadmill)\n",
      "35 Russian Twist\n",
      "36 Seated Back Fly\n",
      "37 Shoulder Press (dumbbell)\n",
      "38 Side Plank Left side\n",
      "39 Side Plank Right side\n",
      "40 Sit-up (hands positioned behind head)\n",
      "41 Sit-ups\n",
      "42 Squat\n",
      "43 Squat (arms in front of body, parallel to ground)\n",
      "44 Squat (hands behind head)\n",
      "45 Squat (kettlebell / goblet)\n",
      "46 Squat Jump\n",
      "47 Squat Rack Shoulder Press\n",
      "48 Static Stretch (at your own pace)\n",
      "49 Static stretch\n",
      "50 Tap Right Device\n",
      "51 Triceps Kickback (knee on bench) (label spans both arms)\n",
      "52 Triceps Kickback (knee on bench) (left arm)\n",
      "53 Triceps Kickback (knee on bench) (right arm)\n",
      "54 Triceps extension (lying down)\n",
      "55 Two-arm Dumbbell Curl (both arms, not alternating)\n",
      "56 V-up\n",
      "57 Walk\n",
      "58 Walking lunge\n",
      "59 Wall Ball\n",
      "60 Wall Squat\n"
     ]
    }
   ],
   "source": [
    "for i in range(61):\n",
    "    print(f\"{i:02d}\", labels[i])"
   ]
  },
  {
   "cell_type": "markdown",
   "metadata": {},
   "source": [
    "# KLDiv 실험"
   ]
  },
  {
   "cell_type": "code",
   "execution_count": 5,
   "metadata": {},
   "outputs": [],
   "source": [
    "criterion = nn.KLDivLoss(reduction=\"batchmean\")"
   ]
  },
  {
   "cell_type": "code",
   "execution_count": 6,
   "metadata": {},
   "outputs": [
    {
     "data": {
      "text/plain": [
       "tensor(1.7247)"
      ]
     },
     "execution_count": 6,
     "metadata": {},
     "output_type": "execute_result"
    }
   ],
   "source": [
    "x = torch.softmax(torch.normal(0, 2, (10, 60)), dim=1)\n",
    "y = torch.softmax(torch.zeros(10, 60), dim=1)\n",
    "\n",
    "torch.mean(-torch.log(x / y))"
   ]
  },
  {
   "cell_type": "markdown",
   "metadata": {},
   "source": [
    "# 데이터셋 만들기"
   ]
  },
  {
   "cell_type": "code",
   "execution_count": 7,
   "metadata": {},
   "outputs": [],
   "source": [
    "train = pd.read_csv(\"data/train_features.csv\")\n",
    "test = pd.read_csv(\"data/test_features.csv\")"
   ]
  },
  {
   "cell_type": "code",
   "execution_count": 8,
   "metadata": {},
   "outputs": [
    {
     "data": {
      "text/html": [
       "<div>\n",
       "<style scoped>\n",
       "    .dataframe tbody tr th:only-of-type {\n",
       "        vertical-align: middle;\n",
       "    }\n",
       "\n",
       "    .dataframe tbody tr th {\n",
       "        vertical-align: top;\n",
       "    }\n",
       "\n",
       "    .dataframe thead th {\n",
       "        text-align: right;\n",
       "    }\n",
       "</style>\n",
       "<table border=\"1\" class=\"dataframe\">\n",
       "  <thead>\n",
       "    <tr style=\"text-align: right;\">\n",
       "      <th></th>\n",
       "      <th>id</th>\n",
       "      <th>time</th>\n",
       "      <th>acc_x</th>\n",
       "      <th>acc_y</th>\n",
       "      <th>acc_z</th>\n",
       "      <th>gy_x</th>\n",
       "      <th>gy_y</th>\n",
       "      <th>gy_z</th>\n",
       "    </tr>\n",
       "  </thead>\n",
       "  <tbody>\n",
       "    <tr>\n",
       "      <th>0</th>\n",
       "      <td>0</td>\n",
       "      <td>0</td>\n",
       "      <td>1.206087</td>\n",
       "      <td>-0.179371</td>\n",
       "      <td>-0.148447</td>\n",
       "      <td>-0.591608</td>\n",
       "      <td>-30.549010</td>\n",
       "      <td>-31.676112</td>\n",
       "    </tr>\n",
       "    <tr>\n",
       "      <th>1</th>\n",
       "      <td>0</td>\n",
       "      <td>1</td>\n",
       "      <td>1.287696</td>\n",
       "      <td>-0.198974</td>\n",
       "      <td>-0.182444</td>\n",
       "      <td>0.303100</td>\n",
       "      <td>-39.139103</td>\n",
       "      <td>-24.927216</td>\n",
       "    </tr>\n",
       "    <tr>\n",
       "      <th>2</th>\n",
       "      <td>0</td>\n",
       "      <td>2</td>\n",
       "      <td>1.304609</td>\n",
       "      <td>-0.195114</td>\n",
       "      <td>-0.253382</td>\n",
       "      <td>-3.617278</td>\n",
       "      <td>-44.122565</td>\n",
       "      <td>-25.019629</td>\n",
       "    </tr>\n",
       "    <tr>\n",
       "      <th>3</th>\n",
       "      <td>0</td>\n",
       "      <td>3</td>\n",
       "      <td>1.293095</td>\n",
       "      <td>-0.230366</td>\n",
       "      <td>-0.215210</td>\n",
       "      <td>2.712986</td>\n",
       "      <td>-53.597843</td>\n",
       "      <td>-27.454013</td>\n",
       "    </tr>\n",
       "    <tr>\n",
       "      <th>4</th>\n",
       "      <td>0</td>\n",
       "      <td>4</td>\n",
       "      <td>1.300887</td>\n",
       "      <td>-0.187757</td>\n",
       "      <td>-0.222523</td>\n",
       "      <td>4.286707</td>\n",
       "      <td>-57.906561</td>\n",
       "      <td>-27.961234</td>\n",
       "    </tr>\n",
       "    <tr>\n",
       "      <th>...</th>\n",
       "      <td>...</td>\n",
       "      <td>...</td>\n",
       "      <td>...</td>\n",
       "      <td>...</td>\n",
       "      <td>...</td>\n",
       "      <td>...</td>\n",
       "      <td>...</td>\n",
       "      <td>...</td>\n",
       "    </tr>\n",
       "    <tr>\n",
       "      <th>1874995</th>\n",
       "      <td>3124</td>\n",
       "      <td>595</td>\n",
       "      <td>-0.712530</td>\n",
       "      <td>-0.658357</td>\n",
       "      <td>0.293707</td>\n",
       "      <td>-29.367857</td>\n",
       "      <td>-104.013664</td>\n",
       "      <td>-76.290437</td>\n",
       "    </tr>\n",
       "    <tr>\n",
       "      <th>1874996</th>\n",
       "      <td>3124</td>\n",
       "      <td>596</td>\n",
       "      <td>-0.683037</td>\n",
       "      <td>-0.658466</td>\n",
       "      <td>0.329223</td>\n",
       "      <td>-30.149089</td>\n",
       "      <td>-101.796809</td>\n",
       "      <td>-76.625087</td>\n",
       "    </tr>\n",
       "    <tr>\n",
       "      <th>1874997</th>\n",
       "      <td>3124</td>\n",
       "      <td>597</td>\n",
       "      <td>-0.664730</td>\n",
       "      <td>-0.666625</td>\n",
       "      <td>0.364114</td>\n",
       "      <td>-27.873095</td>\n",
       "      <td>-98.776072</td>\n",
       "      <td>-79.365125</td>\n",
       "    </tr>\n",
       "    <tr>\n",
       "      <th>1874998</th>\n",
       "      <td>3124</td>\n",
       "      <td>598</td>\n",
       "      <td>-0.630534</td>\n",
       "      <td>-0.682565</td>\n",
       "      <td>0.373696</td>\n",
       "      <td>-23.636550</td>\n",
       "      <td>-99.139495</td>\n",
       "      <td>-80.259478</td>\n",
       "    </tr>\n",
       "    <tr>\n",
       "      <th>1874999</th>\n",
       "      <td>3124</td>\n",
       "      <td>599</td>\n",
       "      <td>-0.578351</td>\n",
       "      <td>-0.700235</td>\n",
       "      <td>0.384390</td>\n",
       "      <td>-17.917626</td>\n",
       "      <td>-100.181873</td>\n",
       "      <td>-80.676229</td>\n",
       "    </tr>\n",
       "  </tbody>\n",
       "</table>\n",
       "<p>1875000 rows × 8 columns</p>\n",
       "</div>"
      ],
      "text/plain": [
       "           id  time     acc_x     acc_y     acc_z       gy_x        gy_y  \\\n",
       "0           0     0  1.206087 -0.179371 -0.148447  -0.591608  -30.549010   \n",
       "1           0     1  1.287696 -0.198974 -0.182444   0.303100  -39.139103   \n",
       "2           0     2  1.304609 -0.195114 -0.253382  -3.617278  -44.122565   \n",
       "3           0     3  1.293095 -0.230366 -0.215210   2.712986  -53.597843   \n",
       "4           0     4  1.300887 -0.187757 -0.222523   4.286707  -57.906561   \n",
       "...       ...   ...       ...       ...       ...        ...         ...   \n",
       "1874995  3124   595 -0.712530 -0.658357  0.293707 -29.367857 -104.013664   \n",
       "1874996  3124   596 -0.683037 -0.658466  0.329223 -30.149089 -101.796809   \n",
       "1874997  3124   597 -0.664730 -0.666625  0.364114 -27.873095  -98.776072   \n",
       "1874998  3124   598 -0.630534 -0.682565  0.373696 -23.636550  -99.139495   \n",
       "1874999  3124   599 -0.578351 -0.700235  0.384390 -17.917626 -100.181873   \n",
       "\n",
       "              gy_z  \n",
       "0       -31.676112  \n",
       "1       -24.927216  \n",
       "2       -25.019629  \n",
       "3       -27.454013  \n",
       "4       -27.961234  \n",
       "...            ...  \n",
       "1874995 -76.290437  \n",
       "1874996 -76.625087  \n",
       "1874997 -79.365125  \n",
       "1874998 -80.259478  \n",
       "1874999 -80.676229  \n",
       "\n",
       "[1875000 rows x 8 columns]"
      ]
     },
     "execution_count": 8,
     "metadata": {},
     "output_type": "execute_result"
    }
   ],
   "source": [
    "train"
   ]
  },
  {
   "cell_type": "code",
   "execution_count": 9,
   "metadata": {},
   "outputs": [
    {
     "data": {
      "text/html": [
       "<div>\n",
       "<style scoped>\n",
       "    .dataframe tbody tr th:only-of-type {\n",
       "        vertical-align: middle;\n",
       "    }\n",
       "\n",
       "    .dataframe tbody tr th {\n",
       "        vertical-align: top;\n",
       "    }\n",
       "\n",
       "    .dataframe thead th {\n",
       "        text-align: right;\n",
       "    }\n",
       "</style>\n",
       "<table border=\"1\" class=\"dataframe\">\n",
       "  <thead>\n",
       "    <tr style=\"text-align: right;\">\n",
       "      <th></th>\n",
       "      <th>id</th>\n",
       "      <th>time</th>\n",
       "      <th>acc_x</th>\n",
       "      <th>acc_y</th>\n",
       "      <th>acc_z</th>\n",
       "      <th>gy_x</th>\n",
       "      <th>gy_y</th>\n",
       "      <th>gy_z</th>\n",
       "    </tr>\n",
       "  </thead>\n",
       "  <tbody>\n",
       "    <tr>\n",
       "      <th>0</th>\n",
       "      <td>3125</td>\n",
       "      <td>0</td>\n",
       "      <td>-0.628100</td>\n",
       "      <td>-0.160155</td>\n",
       "      <td>0.151487</td>\n",
       "      <td>49.665357</td>\n",
       "      <td>88.435961</td>\n",
       "      <td>13.597668</td>\n",
       "    </tr>\n",
       "    <tr>\n",
       "      <th>1</th>\n",
       "      <td>3125</td>\n",
       "      <td>1</td>\n",
       "      <td>-0.462548</td>\n",
       "      <td>0.012462</td>\n",
       "      <td>-0.053726</td>\n",
       "      <td>56.953059</td>\n",
       "      <td>96.185341</td>\n",
       "      <td>16.278458</td>\n",
       "    </tr>\n",
       "    <tr>\n",
       "      <th>2</th>\n",
       "      <td>3125</td>\n",
       "      <td>2</td>\n",
       "      <td>-0.363481</td>\n",
       "      <td>-0.091789</td>\n",
       "      <td>-0.130004</td>\n",
       "      <td>29.557396</td>\n",
       "      <td>93.836453</td>\n",
       "      <td>13.329043</td>\n",
       "    </tr>\n",
       "    <tr>\n",
       "      <th>3</th>\n",
       "      <td>3125</td>\n",
       "      <td>3</td>\n",
       "      <td>-0.351750</td>\n",
       "      <td>-0.239870</td>\n",
       "      <td>-0.193053</td>\n",
       "      <td>23.686172</td>\n",
       "      <td>88.608721</td>\n",
       "      <td>13.449771</td>\n",
       "    </tr>\n",
       "    <tr>\n",
       "      <th>4</th>\n",
       "      <td>3125</td>\n",
       "      <td>4</td>\n",
       "      <td>-0.312934</td>\n",
       "      <td>-0.123762</td>\n",
       "      <td>-0.318621</td>\n",
       "      <td>20.410071</td>\n",
       "      <td>85.327707</td>\n",
       "      <td>13.884912</td>\n",
       "    </tr>\n",
       "    <tr>\n",
       "      <th>...</th>\n",
       "      <td>...</td>\n",
       "      <td>...</td>\n",
       "      <td>...</td>\n",
       "      <td>...</td>\n",
       "      <td>...</td>\n",
       "      <td>...</td>\n",
       "      <td>...</td>\n",
       "      <td>...</td>\n",
       "    </tr>\n",
       "    <tr>\n",
       "      <th>469195</th>\n",
       "      <td>3906</td>\n",
       "      <td>595</td>\n",
       "      <td>0.104191</td>\n",
       "      <td>-0.784979</td>\n",
       "      <td>0.639513</td>\n",
       "      <td>-10.475346</td>\n",
       "      <td>14.095361</td>\n",
       "      <td>-190.358982</td>\n",
       "    </tr>\n",
       "    <tr>\n",
       "      <th>469196</th>\n",
       "      <td>3906</td>\n",
       "      <td>596</td>\n",
       "      <td>0.103297</td>\n",
       "      <td>-0.758954</td>\n",
       "      <td>0.615687</td>\n",
       "      <td>-25.360272</td>\n",
       "      <td>-8.523018</td>\n",
       "      <td>-180.393291</td>\n",
       "    </tr>\n",
       "    <tr>\n",
       "      <th>469197</th>\n",
       "      <td>3906</td>\n",
       "      <td>597</td>\n",
       "      <td>0.128294</td>\n",
       "      <td>-0.749389</td>\n",
       "      <td>0.586184</td>\n",
       "      <td>-27.917723</td>\n",
       "      <td>-23.186245</td>\n",
       "      <td>-162.624160</td>\n",
       "    </tr>\n",
       "    <tr>\n",
       "      <th>469198</th>\n",
       "      <td>3906</td>\n",
       "      <td>598</td>\n",
       "      <td>0.104130</td>\n",
       "      <td>-0.692731</td>\n",
       "      <td>0.573397</td>\n",
       "      <td>-27.847980</td>\n",
       "      <td>-30.407555</td>\n",
       "      <td>-138.761676</td>\n",
       "    </tr>\n",
       "    <tr>\n",
       "      <th>469199</th>\n",
       "      <td>3906</td>\n",
       "      <td>599</td>\n",
       "      <td>0.059299</td>\n",
       "      <td>-0.613487</td>\n",
       "      <td>0.556780</td>\n",
       "      <td>-29.900725</td>\n",
       "      <td>-36.586219</td>\n",
       "      <td>-116.423810</td>\n",
       "    </tr>\n",
       "  </tbody>\n",
       "</table>\n",
       "<p>469200 rows × 8 columns</p>\n",
       "</div>"
      ],
      "text/plain": [
       "          id  time     acc_x     acc_y     acc_z       gy_x       gy_y  \\\n",
       "0       3125     0 -0.628100 -0.160155  0.151487  49.665357  88.435961   \n",
       "1       3125     1 -0.462548  0.012462 -0.053726  56.953059  96.185341   \n",
       "2       3125     2 -0.363481 -0.091789 -0.130004  29.557396  93.836453   \n",
       "3       3125     3 -0.351750 -0.239870 -0.193053  23.686172  88.608721   \n",
       "4       3125     4 -0.312934 -0.123762 -0.318621  20.410071  85.327707   \n",
       "...      ...   ...       ...       ...       ...        ...        ...   \n",
       "469195  3906   595  0.104191 -0.784979  0.639513 -10.475346  14.095361   \n",
       "469196  3906   596  0.103297 -0.758954  0.615687 -25.360272  -8.523018   \n",
       "469197  3906   597  0.128294 -0.749389  0.586184 -27.917723 -23.186245   \n",
       "469198  3906   598  0.104130 -0.692731  0.573397 -27.847980 -30.407555   \n",
       "469199  3906   599  0.059299 -0.613487  0.556780 -29.900725 -36.586219   \n",
       "\n",
       "              gy_z  \n",
       "0        13.597668  \n",
       "1        16.278458  \n",
       "2        13.329043  \n",
       "3        13.449771  \n",
       "4        13.884912  \n",
       "...            ...  \n",
       "469195 -190.358982  \n",
       "469196 -180.393291  \n",
       "469197 -162.624160  \n",
       "469198 -138.761676  \n",
       "469199 -116.423810  \n",
       "\n",
       "[469200 rows x 8 columns]"
      ]
     },
     "execution_count": 9,
     "metadata": {},
     "output_type": "execute_result"
    }
   ],
   "source": [
    "test"
   ]
  },
  {
   "cell_type": "code",
   "execution_count": 10,
   "metadata": {},
   "outputs": [
    {
     "data": {
      "text/plain": [
       "torch.Size([6, 2344200])"
      ]
     },
     "execution_count": 10,
     "metadata": {},
     "output_type": "execute_result"
    }
   ],
   "source": [
    "X = np.concatenate([train.to_numpy(), test.to_numpy()], axis=0)[:, 2:].T\n",
    "X = torch.tensor(X, dtype=torch.float64)\n",
    "X.shape"
   ]
  },
  {
   "cell_type": "code",
   "execution_count": 11,
   "metadata": {},
   "outputs": [],
   "source": [
    "# standardization\n",
    "means = X.mean(dim=1, keepdim=True)\n",
    "stds = X.std(dim=1, keepdim=True)\n",
    "\n",
    "X = (X - means) / stds"
   ]
  },
  {
   "cell_type": "code",
   "execution_count": 12,
   "metadata": {},
   "outputs": [
    {
     "data": {
      "text/plain": [
       "torch.Size([3907, 6, 600])"
      ]
     },
     "execution_count": 12,
     "metadata": {},
     "output_type": "execute_result"
    }
   ],
   "source": [
    "X = torch.stack(torch.split(X, 600, dim=1), dim=0)\n",
    "X.shape"
   ]
  },
  {
   "cell_type": "markdown",
   "metadata": {},
   "source": [
    "## Derived Variables"
   ]
  },
  {
   "cell_type": "code",
   "execution_count": 13,
   "metadata": {},
   "outputs": [],
   "source": [
    "T1 = (X[:, :3] ** 2).sum(dim=1) ** (1 / 3)\n",
    "T2 = (X[:, 3:] ** 2).sum(dim=1) ** (1 / 3)"
   ]
  },
  {
   "cell_type": "code",
   "execution_count": 14,
   "metadata": {},
   "outputs": [],
   "source": [
    "T1 = (T1 - T1.mean()) / T1.std()\n",
    "T2 = (T2 - T2.mean()) / T2.std()"
   ]
  },
  {
   "cell_type": "code",
   "execution_count": 15,
   "metadata": {},
   "outputs": [
    {
     "data": {
      "text/plain": [
       "torch.Size([3907, 8, 600])"
      ]
     },
     "execution_count": 15,
     "metadata": {},
     "output_type": "execute_result"
    }
   ],
   "source": [
    "X = torch.cat([X, T1.unsqueeze(1), T2.unsqueeze(1)], dim=1)\n",
    "X.shape"
   ]
  },
  {
   "cell_type": "markdown",
   "metadata": {},
   "source": [
    "## Out of Distribution"
   ]
  },
  {
   "cell_type": "code",
   "execution_count": 16,
   "metadata": {},
   "outputs": [],
   "source": [
    "labels = pd.read_csv(\"data/train_labels.csv\")"
   ]
  },
  {
   "cell_type": "code",
   "execution_count": 17,
   "metadata": {},
   "outputs": [
    {
     "data": {
      "text/html": [
       "<div>\n",
       "<style scoped>\n",
       "    .dataframe tbody tr th:only-of-type {\n",
       "        vertical-align: middle;\n",
       "    }\n",
       "\n",
       "    .dataframe tbody tr th {\n",
       "        vertical-align: top;\n",
       "    }\n",
       "\n",
       "    .dataframe thead th {\n",
       "        text-align: right;\n",
       "    }\n",
       "</style>\n",
       "<table border=\"1\" class=\"dataframe\">\n",
       "  <thead>\n",
       "    <tr style=\"text-align: right;\">\n",
       "      <th></th>\n",
       "      <th>id</th>\n",
       "      <th>label</th>\n",
       "      <th>label_desc</th>\n",
       "    </tr>\n",
       "  </thead>\n",
       "  <tbody>\n",
       "    <tr>\n",
       "      <th>0</th>\n",
       "      <td>0</td>\n",
       "      <td>37</td>\n",
       "      <td>Shoulder Press (dumbbell)</td>\n",
       "    </tr>\n",
       "    <tr>\n",
       "      <th>1</th>\n",
       "      <td>1</td>\n",
       "      <td>26</td>\n",
       "      <td>Non-Exercise</td>\n",
       "    </tr>\n",
       "    <tr>\n",
       "      <th>2</th>\n",
       "      <td>2</td>\n",
       "      <td>3</td>\n",
       "      <td>Biceps Curl (band)</td>\n",
       "    </tr>\n",
       "    <tr>\n",
       "      <th>3</th>\n",
       "      <td>3</td>\n",
       "      <td>26</td>\n",
       "      <td>Non-Exercise</td>\n",
       "    </tr>\n",
       "    <tr>\n",
       "      <th>4</th>\n",
       "      <td>4</td>\n",
       "      <td>26</td>\n",
       "      <td>Non-Exercise</td>\n",
       "    </tr>\n",
       "    <tr>\n",
       "      <th>...</th>\n",
       "      <td>...</td>\n",
       "      <td>...</td>\n",
       "      <td>...</td>\n",
       "    </tr>\n",
       "    <tr>\n",
       "      <th>3120</th>\n",
       "      <td>3120</td>\n",
       "      <td>26</td>\n",
       "      <td>Non-Exercise</td>\n",
       "    </tr>\n",
       "    <tr>\n",
       "      <th>3121</th>\n",
       "      <td>3121</td>\n",
       "      <td>26</td>\n",
       "      <td>Non-Exercise</td>\n",
       "    </tr>\n",
       "    <tr>\n",
       "      <th>3122</th>\n",
       "      <td>3122</td>\n",
       "      <td>15</td>\n",
       "      <td>Dynamic Stretch (at your own pace)</td>\n",
       "    </tr>\n",
       "    <tr>\n",
       "      <th>3123</th>\n",
       "      <td>3123</td>\n",
       "      <td>26</td>\n",
       "      <td>Non-Exercise</td>\n",
       "    </tr>\n",
       "    <tr>\n",
       "      <th>3124</th>\n",
       "      <td>3124</td>\n",
       "      <td>2</td>\n",
       "      <td>Bicep Curl</td>\n",
       "    </tr>\n",
       "  </tbody>\n",
       "</table>\n",
       "<p>3125 rows × 3 columns</p>\n",
       "</div>"
      ],
      "text/plain": [
       "        id  label                          label_desc\n",
       "0        0     37           Shoulder Press (dumbbell)\n",
       "1        1     26                        Non-Exercise\n",
       "2        2      3                  Biceps Curl (band)\n",
       "3        3     26                        Non-Exercise\n",
       "4        4     26                        Non-Exercise\n",
       "...    ...    ...                                 ...\n",
       "3120  3120     26                        Non-Exercise\n",
       "3121  3121     26                        Non-Exercise\n",
       "3122  3122     15  Dynamic Stretch (at your own pace)\n",
       "3123  3123     26                        Non-Exercise\n",
       "3124  3124      2                          Bicep Curl\n",
       "\n",
       "[3125 rows x 3 columns]"
      ]
     },
     "execution_count": 17,
     "metadata": {},
     "output_type": "execute_result"
    }
   ],
   "source": [
    "labels"
   ]
  },
  {
   "cell_type": "code",
   "execution_count": 18,
   "metadata": {},
   "outputs": [],
   "source": [
    "X_train = X[: len(labels)]\n",
    "X_test = X[len(labels) :]"
   ]
  },
  {
   "cell_type": "code",
   "execution_count": 19,
   "metadata": {},
   "outputs": [
    {
     "data": {
      "text/plain": [
       "(torch.Size([3125, 8, 600]), torch.Size([782, 8, 600]))"
      ]
     },
     "execution_count": 19,
     "metadata": {},
     "output_type": "execute_result"
    }
   ],
   "source": [
    "X_train.shape, X_test.shape"
   ]
  },
  {
   "cell_type": "markdown",
   "metadata": {},
   "source": [
    "## Unknown"
   ]
  },
  {
   "cell_type": "code",
   "execution_count": 20,
   "metadata": {},
   "outputs": [],
   "source": [
    "Y = torch.tensor(labels.to_numpy()[:, 1:2].astype(np.uint8), dtype=torch.long).squeeze()"
   ]
  },
  {
   "cell_type": "code",
   "execution_count": 21,
   "metadata": {},
   "outputs": [],
   "source": [
    "xs1, ys1, xs2 = [], [], []\n",
    "for x, y in zip(X_train, Y):\n",
    "    if y == 26:\n",
    "        xs2.append(x)\n",
    "    else:\n",
    "        xs1.append(x)\n",
    "        ys1.append(y - 1 if y > 26 else y)"
   ]
  },
  {
   "cell_type": "code",
   "execution_count": 22,
   "metadata": {},
   "outputs": [
    {
     "data": {
      "text/plain": [
       "(1607, 1518)"
      ]
     },
     "execution_count": 22,
     "metadata": {},
     "output_type": "execute_result"
    }
   ],
   "source": [
    "len(xs1), len(xs2)"
   ]
  },
  {
   "cell_type": "code",
   "execution_count": 23,
   "metadata": {},
   "outputs": [],
   "source": [
    "X_train1 = torch.stack(xs1)\n",
    "Y_train1 = torch.stack(ys1)\n",
    "X_train2 = torch.stack(xs2)"
   ]
  },
  {
   "cell_type": "code",
   "execution_count": 24,
   "metadata": {},
   "outputs": [
    {
     "data": {
      "text/plain": [
       "torch.Size([1607, 8, 600])"
      ]
     },
     "execution_count": 24,
     "metadata": {},
     "output_type": "execute_result"
    }
   ],
   "source": [
    "X_train1.shape"
   ]
  },
  {
   "cell_type": "code",
   "execution_count": 25,
   "metadata": {},
   "outputs": [],
   "source": [
    "np.savez_compressed(\n",
    "    \"data/unknown.npz\",\n",
    "    X_train1=X_train1,\n",
    "    Y_train1=Y_train1,\n",
    "    X_train2=X_train2,\n",
    "    X_test=X_test,\n",
    ")"
   ]
  }
 ],
 "metadata": {
  "kernelspec": {
   "display_name": "torch",
   "language": "python",
   "name": "torch"
  },
  "language_info": {
   "codemirror_mode": {
    "name": "ipython",
    "version": 3
   },
   "file_extension": ".py",
   "mimetype": "text/x-python",
   "name": "python",
   "nbconvert_exporter": "python",
   "pygments_lexer": "ipython3",
   "version": "3.7.9"
  }
 },
 "nbformat": 4,
 "nbformat_minor": 4
}
